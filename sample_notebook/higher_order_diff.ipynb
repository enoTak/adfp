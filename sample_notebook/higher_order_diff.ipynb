{
 "cells": [
  {
   "cell_type": "code",
   "execution_count": 1,
   "metadata": {},
   "outputs": [],
   "source": [
    "import numpy as np\n",
    "from pyautodiff import Variable\n",
    "import pyautodiff.analytic_function as F\n",
    "from pyautodiff import plot_dot_graph"
   ]
  },
  {
   "cell_type": "code",
   "execution_count": 2,
   "metadata": {},
   "outputs": [],
   "source": [
    "def f(x):\n",
    "    y = x ** 4 - 2 * x ** 2\n",
    "    return y"
   ]
  },
  {
   "cell_type": "code",
   "execution_count": 3,
   "metadata": {},
   "outputs": [
    {
     "data": {
      "text/plain": [
       "variable(24.0)"
      ]
     },
     "execution_count": 3,
     "metadata": {},
     "output_type": "execute_result"
    }
   ],
   "source": [
    "x = Variable(np.array(2.0))\n",
    "y = f(x)\n",
    "y.backward(create_graph=True)\n",
    "x.grad"
   ]
  },
  {
   "cell_type": "code",
   "execution_count": 4,
   "metadata": {},
   "outputs": [
    {
     "data": {
      "text/plain": [
       "variable(44.0)"
      ]
     },
     "execution_count": 4,
     "metadata": {},
     "output_type": "execute_result"
    }
   ],
   "source": [
    "gx = x.grad\n",
    "x.cleargrad()\n",
    "gx.backward()\n",
    "x.grad"
   ]
  },
  {
   "cell_type": "code",
   "execution_count": 5,
   "metadata": {},
   "outputs": [
    {
     "name": "stdout",
     "output_type": "stream",
     "text": [
      "0 variable(2.0)\n",
      "1 variable(1.4545454545454546)\n",
      "2 variable(1.1510467893775467)\n",
      "3 variable(1.0253259289766978)\n",
      "4 variable(1.0009084519430513)\n",
      "5 variable(1.0000012353089454)\n",
      "6 variable(1.000000000002289)\n",
      "7 variable(1.0)\n",
      "8 variable(1.0)\n",
      "9 variable(1.0)\n"
     ]
    }
   ],
   "source": [
    "iters = 10\n",
    "\n",
    "for i in range(iters):\n",
    "    print(i, x)\n",
    "\n",
    "    y = f(x)\n",
    "    x.cleargrad()\n",
    "    y.backward(create_graph=True)\n",
    "\n",
    "    gx = x.grad\n",
    "    x.cleargrad()\n",
    "    gx.backward()\n",
    "    gx2 = x.grad\n",
    "\n",
    "    x.data -= gx.data / gx2.data"
   ]
  },
  {
   "cell_type": "code",
   "execution_count": 6,
   "metadata": {},
   "outputs": [
    {
     "name": "stdout",
     "output_type": "stream",
     "text": [
      "0: variable(0.8414709848078965)\n",
      "1: variable(0.5403023058681398)\n",
      "2: variable(-0.8414709848078965)\n",
      "3: variable(-0.5403023058681398)\n",
      "4: variable(0.8414709848078965)\n",
      "5: variable(0.5403023058681398)\n",
      "6: variable(-0.8414709848078965)\n"
     ]
    }
   ],
   "source": [
    "x = Variable(np.array(1.0))\n",
    "y = F.sin(x)\n",
    "y.backward(create_graph=True)\n",
    "gx = x.grad\n",
    "print(f'0: {y}')\n",
    "print(f'1: {x.grad}')\n",
    "\n",
    "for i in range(2, 7):\n",
    "    gx = x.grad\n",
    "    x.cleargrad()\n",
    "    gx.backward(create_graph=True)\n",
    "    print(f'{i}: {x.grad}')"
   ]
  },
  {
   "cell_type": "code",
   "execution_count": 7,
   "metadata": {},
   "outputs": [
    {
     "name": "stdout",
     "output_type": "stream",
     "text": [
      "1: variable(6.0), True\n",
      "2: variable(2.0), True\n",
      "3: variable(0.0), False\n",
      "4: variable(0.0), False\n"
     ]
    }
   ],
   "source": [
    "x = Variable(np.array(3.0))\n",
    "y = F.square(x)\n",
    "y.backward(create_graph=True)\n",
    "gx = x.grad\n",
    "print(f'1: {gx}, {x.is_updated_grad}')\n",
    "\n",
    "for i in range(2, 5):\n",
    "    x.cleargrad()\n",
    "    gx.backward(create_graph=True)\n",
    "    gx = x.grad\n",
    "    print(f'{i}: {gx}, {x.is_updated_grad}')\n",
    " "
   ]
  },
  {
   "cell_type": "code",
   "execution_count": null,
   "metadata": {},
   "outputs": [],
   "source": []
  },
  {
   "cell_type": "code",
   "execution_count": 8,
   "metadata": {},
   "outputs": [
    {
     "ename": "AttributeError",
     "evalue": "'NoneType' object has no attribute 'inputs'",
     "output_type": "error",
     "traceback": [
      "\u001b[0;31m---------------------------------------------------------------------------\u001b[0m",
      "\u001b[0;31mAttributeError\u001b[0m                            Traceback (most recent call last)",
      "\u001b[1;32mセル9 を /Users/takumi_enomoto/Documents/Develop/Python/dzero/higher_order_diff.ipynb\u001b[0m in \u001b[0;36m<cell line: 1>\u001b[0;34m()\u001b[0m\n\u001b[0;32m----> <a href='vscode-notebook-cell:/Users/takumi_enomoto/Documents/Develop/Python/dzero/higher_order_diff.ipynb#X11sZmlsZQ%3D%3D?line=0'>1</a>\u001b[0m plot_dot_graph(gx, verbose\u001b[39m=\u001b[39;49m\u001b[39mFalse\u001b[39;49;00m)\n",
      "File \u001b[0;32m~/Documents/Develop/Python/dzero/pyautodiff/utils.py:90\u001b[0m, in \u001b[0;36mplot_dot_graph\u001b[0;34m(output, verbose, to_file)\u001b[0m\n\u001b[1;32m     89\u001b[0m \u001b[39mdef\u001b[39;00m \u001b[39mplot_dot_graph\u001b[39m(output, verbose\u001b[39m=\u001b[39m\u001b[39mTrue\u001b[39;00m, to_file\u001b[39m=\u001b[39m\u001b[39m'\u001b[39m\u001b[39mgraph.png\u001b[39m\u001b[39m'\u001b[39m):\n\u001b[0;32m---> 90\u001b[0m     dot_graph \u001b[39m=\u001b[39m get_dot_graph(output, verbose)\n\u001b[1;32m     92\u001b[0m     \u001b[39m# save dot data to temporary file \u001b[39;00m\n\u001b[1;32m     93\u001b[0m     tmp_dir \u001b[39m=\u001b[39m os\u001b[39m.\u001b[39mpath\u001b[39m.\u001b[39mjoin(os\u001b[39m.\u001b[39mpath\u001b[39m.\u001b[39mexpanduser(\u001b[39m'\u001b[39m\u001b[39m~\u001b[39m\u001b[39m'\u001b[39m), \u001b[39m'\u001b[39m\u001b[39m.autodiff\u001b[39m\u001b[39m'\u001b[39m)\n",
      "File \u001b[0;32m~/Documents/Develop/Python/dzero/pyautodiff/utils.py:78\u001b[0m, in \u001b[0;36mget_dot_graph\u001b[0;34m(output, verbose)\u001b[0m\n\u001b[1;32m     76\u001b[0m \u001b[39mwhile\u001b[39;00m funcs:\n\u001b[1;32m     77\u001b[0m     f \u001b[39m=\u001b[39m funcs\u001b[39m.\u001b[39mpop()\n\u001b[0;32m---> 78\u001b[0m     txt \u001b[39m+\u001b[39m\u001b[39m=\u001b[39m _dot_func(f)\n\u001b[1;32m     80\u001b[0m     \u001b[39mfor\u001b[39;00m x \u001b[39min\u001b[39;00m f\u001b[39m.\u001b[39minputs:\n\u001b[1;32m     81\u001b[0m         txt \u001b[39m+\u001b[39m\u001b[39m=\u001b[39m _dot_var(x, verbose)\n",
      "File \u001b[0;32m~/Documents/Develop/Python/dzero/pyautodiff/utils.py:42\u001b[0m, in \u001b[0;36m_dot_func\u001b[0;34m(f)\u001b[0m\n\u001b[1;32m     39\u001b[0m txt \u001b[39m=\u001b[39m dot_func\u001b[39m.\u001b[39mformat(\u001b[39mid\u001b[39m(f), f\u001b[39m.\u001b[39m\u001b[39m__class__\u001b[39m\u001b[39m.\u001b[39m\u001b[39m__name__\u001b[39m)\n\u001b[1;32m     41\u001b[0m dot_edge \u001b[39m=\u001b[39m \u001b[39m'\u001b[39m\u001b[39m{}\u001b[39;00m\u001b[39m -> \u001b[39m\u001b[39m{}\u001b[39;00m\u001b[39m\\n\u001b[39;00m\u001b[39m'\u001b[39m\n\u001b[0;32m---> 42\u001b[0m \u001b[39mfor\u001b[39;00m x \u001b[39min\u001b[39;00m f\u001b[39m.\u001b[39;49minputs:\n\u001b[1;32m     43\u001b[0m     txt \u001b[39m+\u001b[39m\u001b[39m=\u001b[39m dot_edge\u001b[39m.\u001b[39mformat(\u001b[39mid\u001b[39m(x), \u001b[39mid\u001b[39m(f))\n\u001b[1;32m     44\u001b[0m \u001b[39mfor\u001b[39;00m y \u001b[39min\u001b[39;00m f\u001b[39m.\u001b[39moutputs:\n",
      "\u001b[0;31mAttributeError\u001b[0m: 'NoneType' object has no attribute 'inputs'"
     ]
    }
   ],
   "source": [
    "plot_dot_graph(gx, verbose=False)"
   ]
  },
  {
   "cell_type": "code",
   "execution_count": null,
   "metadata": {},
   "outputs": [
    {
     "name": "stdout",
     "output_type": "stream",
     "text": [
      "start: <class 'pyautodiff.core.variable.Variable'>, variable(1.0)\n"
     ]
    }
   ],
   "source": [
    "x = Variable(np.array(1.0))\n",
    "x.backward()\n",
    "gx = x.grad\n",
    "print(f'start: {type(gx)}, {x.grad}')"
   ]
  },
  {
   "cell_type": "code",
   "execution_count": null,
   "metadata": {},
   "outputs": [],
   "source": []
  }
 ],
 "metadata": {
  "kernelspec": {
   "display_name": "Python 3.8.13 ('dzero')",
   "language": "python",
   "name": "python3"
  },
  "language_info": {
   "codemirror_mode": {
    "name": "ipython",
    "version": 3
   },
   "file_extension": ".py",
   "mimetype": "text/x-python",
   "name": "python",
   "nbconvert_exporter": "python",
   "pygments_lexer": "ipython3",
   "version": "3.8.13"
  },
  "orig_nbformat": 4,
  "vscode": {
   "interpreter": {
    "hash": "edf2fbde3eac22bc8b50dca421b705d1e22162b604b8df1bcec4edebd02cedeb"
   }
  }
 },
 "nbformat": 4,
 "nbformat_minor": 2
}
