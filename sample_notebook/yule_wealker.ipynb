{
 "cells": [
  {
   "cell_type": "code",
   "execution_count": 1,
   "metadata": {},
   "outputs": [],
   "source": [
    "import numpy as np\n",
    "from collections import UserList"
   ]
  },
  {
   "cell_type": "code",
   "execution_count": 2,
   "metadata": {},
   "outputs": [],
   "source": [
    "class AutoCorrList(UserList):\n",
    "\n",
    "    def __init__(self, initlist=None):\n",
    "        if initlist == None:\n",
    "            super().__init__()\n",
    "        elif type(initlist[0]) == type(np.ndarray([])):\n",
    "            super().__init__(initlist)\n",
    "        else:\n",
    "            raise ValueError(f\"need to data type = numpy.ndarray: actual {type(initlist[0])}\")\n",
    "\n",
    "    def __getitem__(self, i):\n",
    "        if isinstance(i, slice):\n",
    "            raise NotImplementedError(\"accessor for AutoCorrList\")\n",
    "            # return self.__class__(self.data[i])\n",
    "        else:\n",
    "            if i < 0:\n",
    "                return self.data[-i].T\n",
    "            return self.data[i]\n",
    "\n",
    "    def __setitem__(self, i, item):\n",
    "        if i < 0:\n",
    "            raise ValueError(f\"need index >= 0: actual {i}\")\n",
    "        self.data[i] = item"
   ]
  },
  {
   "cell_type": "code",
   "execution_count": 3,
   "metadata": {},
   "outputs": [],
   "source": [
    "d = 2\n",
    "p = 4\n",
    "mat = [np.random.randn(d, d) for i in range(0, p+1)]\n",
    "autocorrs = AutoCorrList(mat)\n",
    "coeffs = [np.random.randn(d, d) for i in range(1, p+1)]"
   ]
  },
  {
   "cell_type": "code",
   "execution_count": 4,
   "metadata": {},
   "outputs": [],
   "source": [
    "e = np.eye(d, d)\n",
    "\n",
    "\n",
    "def Phi(coeffs, k):\n",
    "    ret = autocorrs[k]\n",
    "    for l in range(1, p+1):\n",
    "        ret = ret + coeffs[l-1] @ autocorrs[k-l]\n",
    "    return ret\n",
    "\n",
    "\n",
    "def grad_elem(coeffs, l, i, j):\n",
    "    assert l > 0\n",
    "    ret = np.zeros_like(autocorrs[0])\n",
    "    for k in range(1, p+1):\n",
    "        ret = ret + autocorrs[k-l] @ (Phi(coeffs, k).T)\n",
    "    return e[j].T @ ret @ e[i]\n",
    "\n",
    "\n",
    "def gradient(coeffs):\n",
    "    return [np.array([[grad_elem(coeffs, l, i, j) for j in range(d)] for i in range(d)]) for l in range(1, p+1)]\n",
    "\n",
    "\n",
    "def loss(coeffs):\n",
    "    ret = 0.0\n",
    "    for l in range(1,p+1):\n",
    "        P = Phi(coeffs, l)\n",
    "        ret += np.trace(P.T @ P)\n",
    "    return ret"
   ]
  },
  {
   "cell_type": "code",
   "execution_count": 5,
   "metadata": {},
   "outputs": [
    {
     "name": "stdout",
     "output_type": "stream",
     "text": [
      "[array([[ 0.07378134, -0.76014759],\n",
      "       [ 0.62124745, -0.49926742]]), array([[ 1.48165617, -0.22034993],\n",
      "       [ 1.18795126, -0.11645063]]), array([[ 0.04004554,  0.72325538],\n",
      "       [-1.20996665,  0.92684398]]), array([[0.78117998, 2.61641606],\n",
      "       [1.60122119, 0.50385444]])]\n",
      "init loss: 117.13031152923107\n",
      "loss at iter #0: 73.79823302679787\n",
      "loss at iter #500: 4.7561866475353016e+67\n",
      "loss at iter #1000: 3.681661571104213e+133\n",
      "loss at iter #1500: 2.8498948692792993e+199\n",
      "loss at iter #2000: 2.2060421929298746e+265\n"
     ]
    },
    {
     "name": "stderr",
     "output_type": "stream",
     "text": [
      "/var/folders/22/z13bk7z94l5634tn753b47kh0000gn/T/ipykernel_77584/1151860656.py:27: RuntimeWarning: overflow encountered in matmul\n",
      "  ret += np.trace(P.T @ P)\n"
     ]
    },
    {
     "name": "stdout",
     "output_type": "stream",
     "text": [
      "loss at iter #2500: inf\n",
      "loss at iter #3000: inf\n",
      "loss at iter #3500: inf\n",
      "loss at iter #4000: inf\n",
      "loss at iter #4500: inf\n"
     ]
    },
    {
     "name": "stderr",
     "output_type": "stream",
     "text": [
      "/var/folders/22/z13bk7z94l5634tn753b47kh0000gn/T/ipykernel_77584/1151860656.py:15: RuntimeWarning: overflow encountered in add\n",
      "  ret = ret + autocorrs[k-l] @ (Phi(coeffs, k).T)\n",
      "/var/folders/22/z13bk7z94l5634tn753b47kh0000gn/T/ipykernel_77584/1151860656.py:16: RuntimeWarning: invalid value encountered in matmul\n",
      "  return e[j].T @ ret @ e[i]\n"
     ]
    },
    {
     "name": "stdout",
     "output_type": "stream",
     "text": [
      "loss at iter #5000: nan\n",
      "loss at iter #5500: nan\n",
      "loss at iter #6000: nan\n",
      "loss at iter #6500: nan\n",
      "loss at iter #7000: nan\n",
      "loss at iter #7500: nan\n",
      "loss at iter #8000: nan\n",
      "loss at iter #8500: nan\n",
      "loss at iter #9000: nan\n",
      "loss at iter #9500: nan\n"
     ]
    },
    {
     "data": {
      "text/plain": [
       "[array([[nan, nan],\n",
       "        [nan, nan]]),\n",
       " array([[nan, nan],\n",
       "        [nan, nan]]),\n",
       " array([[nan, nan],\n",
       "        [nan, nan]]),\n",
       " array([[nan, nan],\n",
       "        [nan, nan]])]"
      ]
     },
     "execution_count": 5,
     "metadata": {},
     "output_type": "execute_result"
    }
   ],
   "source": [
    "iters = 10000\n",
    "lr = 0.1\n",
    "it_per_epoch = iters / 500\n",
    "\n",
    "coeffs = [np.random.randn(d, d) for i in range(1, p+1)]\n",
    "# coeffs = [expect]\n",
    "print(coeffs)\n",
    "print(f\"init loss: {loss(coeffs)}\")\n",
    "\n",
    "for i in range(iters):\n",
    "    grads = gradient(coeffs)\n",
    "    for l in range(1, p+1):\n",
    "        coeffs[l-1] -= lr * grads[l-1]\n",
    "        \n",
    "    if i % it_per_epoch == 0:\n",
    "        print(f\"loss at iter #{i}: {loss(coeffs)}\")\n",
    "\n",
    "coeffs"
   ]
  },
  {
   "cell_type": "code",
   "execution_count": 6,
   "metadata": {},
   "outputs": [
    {
     "data": {
      "text/plain": [
       "nan"
      ]
     },
     "execution_count": 6,
     "metadata": {},
     "output_type": "execute_result"
    }
   ],
   "source": [
    "loss(coeffs)"
   ]
  },
  {
   "cell_type": "code",
   "execution_count": null,
   "metadata": {},
   "outputs": [],
   "source": []
  }
 ],
 "metadata": {
  "kernelspec": {
   "display_name": "Python 3.8.13 ('adfp_dev')",
   "language": "python",
   "name": "python3"
  },
  "language_info": {
   "codemirror_mode": {
    "name": "ipython",
    "version": 3
   },
   "file_extension": ".py",
   "mimetype": "text/x-python",
   "name": "python",
   "nbconvert_exporter": "python",
   "pygments_lexer": "ipython3",
   "version": "3.8.13"
  },
  "orig_nbformat": 4,
  "vscode": {
   "interpreter": {
    "hash": "14f3af31dbf516661fc45594ea3204175d5832dc40f539988946944ee02c7260"
   }
  }
 },
 "nbformat": 4,
 "nbformat_minor": 2
}
