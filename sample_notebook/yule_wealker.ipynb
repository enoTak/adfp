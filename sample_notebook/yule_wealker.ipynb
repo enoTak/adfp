{
 "cells": [
  {
   "cell_type": "code",
   "execution_count": 1,
   "metadata": {},
   "outputs": [],
   "source": [
    "import numpy as np\n",
    "from collections import UserList"
   ]
  },
  {
   "cell_type": "code",
   "execution_count": 2,
   "metadata": {},
   "outputs": [],
   "source": [
    "class AutoCorrList(UserList):\n",
    "\n",
    "    def __init__(self, initlist=None):\n",
    "        if initlist == None:\n",
    "            super().__init__()\n",
    "        elif type(initlist[0]) == type(np.ndarray([])):\n",
    "            super().__init__(initlist)\n",
    "        else:\n",
    "            raise ValueError(f\"need to data type = numpy.ndarray: actual {type(initlist[0])}\")\n",
    "\n",
    "    def __getitem__(self, i):\n",
    "        if isinstance(i, slice):\n",
    "            raise NotImplementedError(\"accessor for AutoCorrList\")\n",
    "            # return self.__class__(self.data[i])\n",
    "        else:\n",
    "            if i < 0:\n",
    "                return self.data[-i].T\n",
    "            return self.data[i]\n",
    "\n",
    "    def __setitem__(self, i, item):\n",
    "        if i < 0:\n",
    "            raise ValueError(f\"need index >= 0: actual {i}\")\n",
    "        self.data[i] = item"
   ]
  },
  {
   "cell_type": "code",
   "execution_count": 3,
   "metadata": {},
   "outputs": [],
   "source": [
    "d = 2\n",
    "p = 4\n",
    "mat = [np.random.randn(d, d) for i in range(0, p+1)]\n",
    "autocorrs = AutoCorrList(mat)\n",
    "coeffs = [np.random.randn(d, d) for i in range(1, p+1)]"
   ]
  },
  {
   "cell_type": "code",
   "execution_count": 4,
   "metadata": {},
   "outputs": [],
   "source": [
    "e = np.eye(d, d)\n",
    "\n",
    "\n",
    "def Phi(coeffs, k):\n",
    "    ret = autocorrs[k]\n",
    "    for l in range(1, p+1):\n",
    "        ret = ret + coeffs[l-1] @ autocorrs[k-l]\n",
    "    return ret\n",
    "\n",
    "\n",
    "def grad_elem(coeffs, l, i, j):\n",
    "    assert l > 0\n",
    "    ret = np.zeros_like(autocorrs[0])\n",
    "    for k in range(1, p+1):\n",
    "        ret = ret + autocorrs[k-l] @ (Phi(coeffs, k).T)\n",
    "    return e[j].T @ ret @ e[i]\n",
    "\n",
    "\n",
    "def gradient(coeffs):\n",
    "    return [np.array([[grad_elem(coeffs, l, i, j) for j in range(d)] for i in range(d)]) for l in range(1, p+1)]\n",
    "\n",
    "\n",
    "def loss(coeffs):\n",
    "    ret = 0.0\n",
    "    for l in range(1,p+1):\n",
    "        P = Phi(coeffs, l)\n",
    "        ret += np.trace(P.T @ P)\n",
    "    return ret"
   ]
  },
  {
   "cell_type": "code",
   "execution_count": 5,
   "metadata": {},
   "outputs": [
    {
     "name": "stdout",
     "output_type": "stream",
     "text": [
      "[array([[ 0.89731621,  1.59543423],\n",
      "       [-0.34464134,  0.91521966]]), array([[ 0.97779386,  0.74693378],\n",
      "       [ 0.30230158, -0.19082967]]), array([[ 0.32635422, -1.39134243],\n",
      "       [ 1.46963933,  0.38730605]]), array([[-1.28246176, -1.47510654],\n",
      "       [ 0.38851965,  0.12897621]])]\n",
      "init loss: 59.69359258979523\n",
      "loss at iter #0: 9.141061495127683\n",
      "loss at iter #500: 5242420021.482582\n",
      "loss at iter #1000: 1.864193198218287e+19\n",
      "loss at iter #1500: 6.6290306118977e+28\n",
      "loss at iter #2000: 2.357268919094681e+38\n",
      "loss at iter #2500: 8.382397189351785e+47\n",
      "loss at iter #3000: 2.9807622741251704e+57\n",
      "loss at iter #3500: 1.0599526047434852e+67\n",
      "loss at iter #4000: 3.769168491077467e+76\n",
      "loss at iter #4500: 1.3403081468505087e+86\n",
      "loss at iter #5000: 4.766106722918924e+95\n",
      "loss at iter #5500: 1.6948172215196343e+105\n",
      "loss at iter #6000: 6.026733309489049e+114\n",
      "loss at iter #6500: 2.143093303662421e+124\n",
      "loss at iter #7000: 7.620793342508254e+133\n",
      "loss at iter #7500: 2.709937596742489e+143\n",
      "loss at iter #8000: 9.636479363999301e+152\n",
      "loss at iter #8500: 3.4267111775713735e+162\n",
      "loss at iter #9000: 1.2185310683443889e+172\n",
      "loss at iter #9500: 4.333070070915219e+181\n"
     ]
    },
    {
     "data": {
      "text/plain": [
       "[array([[3.44118263e+94, 5.05793995e+93],\n",
       "        [3.70416403e+94, 5.44447687e+93]]),\n",
       " array([[-4.01328046e+94, -1.78101108e+94],\n",
       "        [-4.31998261e+94, -1.91711917e+94]]),\n",
       " array([[3.61891228e+94, 2.49462012e+94],\n",
       "        [3.89547610e+94, 2.68526350e+94]]),\n",
       " array([[-3.28199253e+94, -2.46750903e+94],\n",
       "        [-3.53280834e+94, -2.65608053e+94]])]"
      ]
     },
     "execution_count": 5,
     "metadata": {},
     "output_type": "execute_result"
    }
   ],
   "source": [
    "iters = 10000\n",
    "lr = 0.2\n",
    "it_per_epoch = iters / 20\n",
    "\n",
    "coeffs = [np.random.randn(d, d) for i in range(1, p+1)]\n",
    "# coeffs = [expect]\n",
    "print(coeffs)\n",
    "print(f\"init loss: {loss(coeffs)}\")\n",
    "\n",
    "for i in range(iters):\n",
    "    grads = gradient(coeffs)\n",
    "    for l in range(1, p+1):\n",
    "        coeffs[l-1] -= lr * grads[l-1]\n",
    "        \n",
    "    if i % it_per_epoch == 0:\n",
    "        print(f\"loss at iter #{i}: {loss(coeffs)}\")\n",
    "\n",
    "coeffs"
   ]
  },
  {
   "cell_type": "code",
   "execution_count": 6,
   "metadata": {},
   "outputs": [
    {
     "data": {
      "text/plain": [
       "1.474527577556881e+191"
      ]
     },
     "execution_count": 6,
     "metadata": {},
     "output_type": "execute_result"
    }
   ],
   "source": [
    "loss(coeffs)"
   ]
  },
  {
   "cell_type": "code",
   "execution_count": null,
   "metadata": {},
   "outputs": [],
   "source": []
  }
 ],
 "metadata": {
  "kernelspec": {
   "display_name": "Python 3.8.13 ('dzero')",
   "language": "python",
   "name": "python3"
  },
  "language_info": {
   "codemirror_mode": {
    "name": "ipython",
    "version": 3
   },
   "file_extension": ".py",
   "mimetype": "text/x-python",
   "name": "python",
   "nbconvert_exporter": "python",
   "pygments_lexer": "ipython3",
   "version": "3.8.13"
  },
  "orig_nbformat": 4,
  "vscode": {
   "interpreter": {
    "hash": "edf2fbde3eac22bc8b50dca421b705d1e22162b604b8df1bcec4edebd02cedeb"
   }
  }
 },
 "nbformat": 4,
 "nbformat_minor": 2
}
